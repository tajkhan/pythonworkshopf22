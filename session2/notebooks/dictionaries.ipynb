{
 "cells": [
  {
   "cell_type": "markdown",
   "metadata": {},
   "source": [
    "**Dictionary**\n",
    "- Mapping type\n",
    "- Collection of (key:value) pairs\n",
    "- Keys have to be immutables, e.g., strings, numbers, tuples, etc.\n",
    "- Keys are unique within a dictionary\n"
   ]
  },
  {
   "cell_type": "markdown",
   "metadata": {},
   "source": [
    "**Creation**"
   ]
  },
  {
   "cell_type": "code",
   "execution_count": null,
   "metadata": {},
   "outputs": [],
   "source": [
    "# empty dictionary\n",
    "d1 = {}\n",
    "type(d1)"
   ]
  },
  {
   "cell_type": "code",
   "execution_count": null,
   "metadata": {},
   "outputs": [],
   "source": [
    "# create dictionary with key:value pairs\n",
    "programs = {\"fcse\":5, \"fee\":2, \"fes\":1, \"fme\":1, \"fmme\":2, \"fmgs\":1}\n",
    "programs"
   ]
  },
  {
   "cell_type": "code",
   "execution_count": null,
   "metadata": {},
   "outputs": [],
   "source": [
    "# create from list\n",
    "d2 = dict([('sape', 4139), ('guido', 4127), ('jack', 4098)])\n",
    "d2"
   ]
  },
  {
   "cell_type": "markdown",
   "metadata": {},
   "source": [
    "**Indexing**\n",
    "Dictionaries are indexed using \"keys\""
   ]
  },
  {
   "cell_type": "code",
   "execution_count": null,
   "metadata": {},
   "outputs": [],
   "source": [
    "programs[\"fcse\"]"
   ]
  },
  {
   "cell_type": "code",
   "execution_count": null,
   "metadata": {},
   "outputs": [],
   "source": [
    "print(f\"fmme has {programs['fmme']} programs\")"
   ]
  },
  {
   "cell_type": "code",
   "execution_count": null,
   "metadata": {},
   "outputs": [],
   "source": [
    "programs[\"fcse\"] = 6\n",
    "print(f\"next year fcse will have {programs['fcse']} programs\")"
   ]
  },
  {
   "cell_type": "code",
   "execution_count": null,
   "metadata": {},
   "outputs": [],
   "source": [
    "# trying to update a non-existent key inserts it!\n",
    "programs[\"dummy\"] = 3\n",
    "programs"
   ]
  },
  {
   "cell_type": "code",
   "execution_count": null,
   "metadata": {},
   "outputs": [],
   "source": [
    "# delete a key\n",
    "del programs['dummy']\n",
    "programs"
   ]
  },
  {
   "cell_type": "markdown",
   "metadata": {},
   "source": [
    "**Looping through dictionaries**"
   ]
  },
  {
   "cell_type": "code",
   "execution_count": null,
   "metadata": {},
   "outputs": [],
   "source": [
    "for fac in programs:\n",
    "    print(f\"{fac}\")"
   ]
  },
  {
   "cell_type": "code",
   "execution_count": null,
   "metadata": {},
   "outputs": [],
   "source": [
    "for fac, nprog in programs.items():\n",
    "    print(f\"{fac} has {nprog} programs\")"
   ]
  },
  {
   "cell_type": "markdown",
   "metadata": {},
   "source": [
    "***Task***"
   ]
  },
  {
   "cell_type": "code",
   "execution_count": null,
   "metadata": {},
   "outputs": [],
   "source": [
    "# write code to print the name of the faculty with highest number of programs in \"programs\"\n",
    "\n"
   ]
  },
  {
   "cell_type": "code",
   "execution_count": null,
   "metadata": {},
   "outputs": [],
   "source": [
    "# giki is thinking of opening faculties of law and medicine. add the new faculties with 0 programs to \"programs\"\n",
    "\n"
   ]
  },
  {
   "cell_type": "code",
   "execution_count": null,
   "metadata": {},
   "outputs": [],
   "source": [
    "# given facs, write code to print names of faculties which are not in giki \"programs\"\n",
    "facs = [\"ieee\", \"fcse\", \"acm\", \"femen\"]"
   ]
  },
  {
   "cell_type": "code",
   "execution_count": null,
   "metadata": {},
   "outputs": [],
   "source": [
    "# given prognames, print the programs for the faculty whose name is in variable f1\n",
    "prognames={\"fcse\":[\"ai\", \"ce\", \"cs\", \"cysec\", \"ds\"], \"fee\":[\"power\", \"telecom\"], \"fes\":[\"es\"], \"fme\":[\"mech\"], \"fmme\":[\"manu\", \"nano\"], \"fmgs\":[\"mgs\"]}\n",
    "prognames\n",
    "f1 = \"fmme\""
   ]
  },
  {
   "cell_type": "markdown",
   "metadata": {},
   "source": [
    "sources consulted: https://docs.python.org/3/tutorial/datastructures.html#dictionaries"
   ]
  }
 ],
 "metadata": {
  "kernelspec": {
   "display_name": "Python 3",
   "language": "python",
   "name": "python3"
  },
  "language_info": {
   "codemirror_mode": {
    "name": "ipython",
    "version": 3
   },
   "file_extension": ".py",
   "mimetype": "text/x-python",
   "name": "python",
   "nbconvert_exporter": "python",
   "pygments_lexer": "ipython3",
   "version": "3.8.5"
  }
 },
 "nbformat": 4,
 "nbformat_minor": 4
}
