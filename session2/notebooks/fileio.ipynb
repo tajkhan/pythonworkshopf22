{
 "cells": [
  {
   "cell_type": "markdown",
   "metadata": {},
   "source": [
    "**File IO**\n",
    "The basic flow of file IO is:\n",
    " - open a file\n",
    " - read/write the file\n",
    " - close the file"
   ]
  },
  {
   "cell_type": "code",
   "execution_count": null,
   "metadata": {},
   "outputs": [],
   "source": [
    "# open a file\n",
    "f = open('file1.txt', 'r') # you to specify the file name/path and the mode (read or write)\n",
    "# read its content\n",
    "content = f.read()\n",
    "# close the file\n",
    "f.close()\n",
    "\n",
    "# use the content\n",
    "print(content)"
   ]
  },
  {
   "cell_type": "code",
   "execution_count": null,
   "metadata": {},
   "outputs": [],
   "source": [
    "# you can read one line as well\n",
    "# open a file\n",
    "f = open('file1.txt', 'r') \n",
    "# read a line\n",
    "ln = f.readline()\n",
    "# close the file\n",
    "f.close()\n",
    "\n",
    "# use the content\n",
    "print(ln)"
   ]
  },
  {
   "cell_type": "code",
   "execution_count": null,
   "metadata": {},
   "outputs": [],
   "source": [
    "# using the with block file is closed automatically when the block finishes\n",
    "with open('file1.txt', 'r') as f:\n",
    "    d = f.read()\n",
    "\n",
    "print(d)"
   ]
  },
  {
   "cell_type": "code",
   "execution_count": null,
   "metadata": {},
   "outputs": [],
   "source": [
    "# you can loop ever a file object line by line\n",
    "with open('file1.txt', 'r') as f:\n",
    "    for line in f:\n",
    "        print(line, end='')"
   ]
  },
  {
   "cell_type": "code",
   "execution_count": null,
   "metadata": {},
   "outputs": [],
   "source": [
    "# you can also write in a file\n",
    "f = open('file2.txt', 'w') # open in write mode. creates if doesn't exit.\n",
    "\n",
    "# go to end of file\n",
    "f.seek(0, 2)\n",
    "\n",
    "# write \n",
    "f.write(\"this is line 6\")\n",
    "\n",
    "# close the file\n",
    "f.close()"
   ]
  },
  {
   "cell_type": "markdown",
   "metadata": {},
   "source": [
    "**Task**\n",
    "Create a file called 2table.txt\n",
    "Write 2's table in it using a loop."
   ]
  },
  {
   "cell_type": "code",
   "execution_count": null,
   "metadata": {},
   "outputs": [],
   "source": [
    "\n",
    "\n",
    "\n"
   ]
  }
 ],
 "metadata": {
  "kernelspec": {
   "display_name": "Python 3",
   "language": "python",
   "name": "python3"
  },
  "language_info": {
   "codemirror_mode": {
    "name": "ipython",
    "version": 3
   },
   "file_extension": ".py",
   "mimetype": "text/x-python",
   "name": "python",
   "nbconvert_exporter": "python",
   "pygments_lexer": "ipython3",
   "version": "3.8.5"
  }
 },
 "nbformat": 4,
 "nbformat_minor": 4
}
