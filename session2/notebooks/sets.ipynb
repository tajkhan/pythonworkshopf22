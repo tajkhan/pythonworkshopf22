{
 "cells": [
  {
   "cell_type": "markdown",
   "metadata": {},
   "source": [
    "\n",
    "**Sets**\n",
    "\n",
    "\n",
    "collection of unique element\n",
    "\n",
    "no index based accesing\n",
    "\n",
    "use for union , intersections, differnce\n",
    "\n",
    "data in sets is immutable"
   ]
  },
  {
   "cell_type": "code",
   "execution_count": null,
   "metadata": {
    "execution": {
     "iopub.execute_input": "2022-07-28T17:55:32.604718Z",
     "iopub.status.busy": "2022-07-28T17:55:32.604157Z",
     "iopub.status.idle": "2022-07-28T17:55:32.637895Z",
     "shell.execute_reply": "2022-07-28T17:55:32.636588Z",
     "shell.execute_reply.started": "2022-07-28T17:55:32.60461Z"
    }
   },
   "outputs": [],
   "source": [
    "s= set()   #use set() to initialize set also {} can be use\n",
    "type(s)"
   ]
  },
  {
   "cell_type": "code",
   "execution_count": null,
   "metadata": {
    "execution": {
     "iopub.execute_input": "2022-07-28T17:58:02.030861Z",
     "iopub.status.busy": "2022-07-28T17:58:02.030361Z",
     "iopub.status.idle": "2022-07-28T17:58:02.03932Z",
     "shell.execute_reply": "2022-07-28T17:58:02.03809Z",
     "shell.execute_reply.started": "2022-07-28T17:58:02.030819Z"
    }
   },
   "outputs": [],
   "source": [
    "s1= {\"India\",\"Germany\",\"Japan\",\"Brazil\"}\n",
    "type(s1)\n",
    "#s1[0]    #error: element of sets are not idendified by index or name \n",
    "#s2 = {}  #wrong: empty curly braces create a dictonary!"
   ]
  },
  {
   "cell_type": "code",
   "execution_count": null,
   "metadata": {},
   "outputs": [],
   "source": [
    "# sets contain unique elemetns,i.e, NO duplicates.\n",
    "basket = {'apple', 'orange', 'apple', 'pear', 'orange', 'banana'}\n",
    "basket\n",
    "# a very common use of sets is to eleminate duplicate elemetns"
   ]
  },
  {
   "cell_type": "code",
   "execution_count": null,
   "metadata": {},
   "outputs": [],
   "source": [
    "# converting to a set\n",
    "l1 = [\"fcse\", \"fee\", \"fes\", \"fes\", \"fcse\", \"fmme\", \"fme\", \"mgs\"]\n",
    "l1\n",
    "gikifaculties = set(l1)\n",
    "gikifaculties"
   ]
  },
  {
   "cell_type": "markdown",
   "metadata": {},
   "source": [
    "**Membership checking**"
   ]
  },
  {
   "cell_type": "code",
   "execution_count": null,
   "metadata": {},
   "outputs": [],
   "source": [
    "# check whether an element is a member of a set\n",
    "\"fcse\" in gikifaculties\n",
    "\n",
    "#check whether fes is in gikifaculties and, if yes print \"horrah!\", else print \"hoosah!\""
   ]
  },
  {
   "cell_type": "markdown",
   "metadata": {},
   "source": [
    "**Intersection**\n",
    "\n",
    "\n",
    "intersection will return the element common in multiple sets \n"
   ]
  },
  {
   "cell_type": "code",
   "execution_count": null,
   "metadata": {
    "execution": {
     "iopub.execute_input": "2022-07-28T18:07:13.55734Z",
     "iopub.status.busy": "2022-07-28T18:07:13.556846Z",
     "iopub.status.idle": "2022-07-28T18:07:13.565714Z",
     "shell.execute_reply": "2022-07-28T18:07:13.56452Z",
     "shell.execute_reply.started": "2022-07-28T18:07:13.5573Z"
    }
   },
   "outputs": [],
   "source": [
    "a={1,2,3,4}\n",
    "b={3,4,5,6}\n",
    "d= a&b   #another method to find intersection \n",
    "d      "
   ]
  },
  {
   "cell_type": "markdown",
   "metadata": {},
   "source": [
    "**Union**\n",
    "\n",
    "union will return all the element in mutiple sets but comman element will be printed once"
   ]
  },
  {
   "cell_type": "code",
   "execution_count": null,
   "metadata": {
    "execution": {
     "iopub.execute_input": "2022-07-28T18:13:57.398194Z",
     "iopub.status.busy": "2022-07-28T18:13:57.397692Z",
     "iopub.status.idle": "2022-07-28T18:13:57.406705Z",
     "shell.execute_reply": "2022-07-28T18:13:57.405221Z",
     "shell.execute_reply.started": "2022-07-28T18:13:57.398142Z"
    }
   },
   "outputs": [],
   "source": [
    "f=a|b   #another method for union\n",
    "f"
   ]
  },
  {
   "cell_type": "markdown",
   "metadata": {},
   "source": [
    "**Differnce**"
   ]
  },
  {
   "cell_type": "code",
   "execution_count": null,
   "metadata": {
    "execution": {
     "iopub.execute_input": "2022-07-28T18:21:00.268366Z",
     "iopub.status.busy": "2022-07-28T18:21:00.267958Z",
     "iopub.status.idle": "2022-07-28T18:21:00.276741Z",
     "shell.execute_reply": "2022-07-28T18:21:00.275547Z",
     "shell.execute_reply.started": "2022-07-28T18:21:00.268331Z"
    }
   },
   "outputs": [],
   "source": [
    "g=a-b     # a-b not equal to b-a\n",
    "g"
   ]
  },
  {
   "cell_type": "markdown",
   "metadata": {},
   "source": [
    "**Symmetric difference**\n",
    "\n",
    "it will return all the element of multiple sets but comman element will not be printed"
   ]
  },
  {
   "cell_type": "code",
   "execution_count": null,
   "metadata": {
    "execution": {
     "iopub.execute_input": "2022-07-28T18:26:17.594136Z",
     "iopub.status.busy": "2022-07-28T18:26:17.5936Z",
     "iopub.status.idle": "2022-07-28T18:26:17.611912Z",
     "shell.execute_reply": "2022-07-28T18:26:17.610314Z",
     "shell.execute_reply.started": "2022-07-28T18:26:17.594093Z"
    }
   },
   "outputs": [],
   "source": [
    "sym_diff= a^b\n",
    "sym_diff"
   ]
  },
  {
   "cell_type": "code",
   "execution_count": null,
   "metadata": {
    "execution": {
     "iopub.execute_input": "2022-07-28T18:26:54.002768Z",
     "iopub.status.busy": "2022-07-28T18:26:54.002319Z",
     "iopub.status.idle": "2022-07-28T18:26:54.01108Z",
     "shell.execute_reply": "2022-07-28T18:26:54.009765Z",
     "shell.execute_reply.started": "2022-07-28T18:26:54.002733Z"
    }
   },
   "outputs": [],
   "source": [
    "sym_diff=b^a\n",
    "sym_diff"
   ]
  },
  {
   "cell_type": "markdown",
   "metadata": {},
   "source": [
    "**Other method in sets**"
   ]
  },
  {
   "cell_type": "code",
   "execution_count": null,
   "metadata": {
    "execution": {
     "iopub.execute_input": "2022-07-28T18:29:57.013799Z",
     "iopub.status.busy": "2022-07-28T18:29:57.013297Z",
     "iopub.status.idle": "2022-07-28T18:29:57.021049Z",
     "shell.execute_reply": "2022-07-28T18:29:57.019838Z",
     "shell.execute_reply.started": "2022-07-28T18:29:57.01376Z"
    }
   },
   "outputs": [],
   "source": [
    "a\n",
    "a.add(99)\n",
    "a"
   ]
  },
  {
   "cell_type": "code",
   "execution_count": null,
   "metadata": {
    "execution": {
     "iopub.execute_input": "2022-07-28T18:30:49.891097Z",
     "iopub.status.busy": "2022-07-28T18:30:49.890565Z",
     "iopub.status.idle": "2022-07-28T18:30:49.900178Z",
     "shell.execute_reply": "2022-07-28T18:30:49.89883Z",
     "shell.execute_reply.started": "2022-07-28T18:30:49.891048Z"
    }
   },
   "outputs": [],
   "source": [
    "a.pop()   #element will randomly delete by pop\n",
    "a"
   ]
  },
  {
   "cell_type": "code",
   "execution_count": null,
   "metadata": {
    "execution": {
     "iopub.execute_input": "2022-07-28T18:31:56.994578Z",
     "iopub.status.busy": "2022-07-28T18:31:56.994081Z",
     "iopub.status.idle": "2022-07-28T18:31:57.003825Z",
     "shell.execute_reply": "2022-07-28T18:31:57.002514Z",
     "shell.execute_reply.started": "2022-07-28T18:31:56.99454Z"
    }
   },
   "outputs": [],
   "source": [
    "a.remove(99)   #to be more specific use remove\n",
    "a"
   ]
  },
  {
   "cell_type": "code",
   "execution_count": null,
   "metadata": {
    "execution": {
     "iopub.execute_input": "2022-07-28T18:35:45.217043Z",
     "iopub.status.busy": "2022-07-28T18:35:45.216574Z",
     "iopub.status.idle": "2022-07-28T18:35:45.22304Z",
     "shell.execute_reply": "2022-07-28T18:35:45.222058Z",
     "shell.execute_reply.started": "2022-07-28T18:35:45.21698Z"
    }
   },
   "outputs": [],
   "source": [
    "A =a.discard(70)  #if we dont want to give error if we dont have element in set use discard funct\n",
    "print(A)"
   ]
  },
  {
   "cell_type": "code",
   "execution_count": null,
   "metadata": {
    "execution": {
     "iopub.execute_input": "2022-07-28T18:36:10.988225Z",
     "iopub.status.busy": "2022-07-28T18:36:10.987721Z",
     "iopub.status.idle": "2022-07-28T18:36:10.99637Z",
     "shell.execute_reply": "2022-07-28T18:36:10.995224Z",
     "shell.execute_reply.started": "2022-07-28T18:36:10.988182Z"
    }
   },
   "outputs": [],
   "source": [
    "a\n",
    "b"
   ]
  },
  {
   "cell_type": "code",
   "execution_count": null,
   "metadata": {
    "execution": {
     "iopub.execute_input": "2022-07-28T18:37:53.503803Z",
     "iopub.status.busy": "2022-07-28T18:37:53.503362Z",
     "iopub.status.idle": "2022-07-28T18:37:53.511309Z",
     "shell.execute_reply": "2022-07-28T18:37:53.510093Z",
     "shell.execute_reply.started": "2022-07-28T18:37:53.50377Z"
    }
   },
   "outputs": [],
   "source": [
    "a.update(b)    #update will merge two sets but common elements will print once\n",
    "a"
   ]
  },
  {
   "cell_type": "code",
   "execution_count": null,
   "metadata": {
    "execution": {
     "iopub.execute_input": "2022-07-28T18:39:12.765598Z",
     "iopub.status.busy": "2022-07-28T18:39:12.765099Z",
     "iopub.status.idle": "2022-07-28T18:39:12.773549Z",
     "shell.execute_reply": "2022-07-28T18:39:12.771918Z",
     "shell.execute_reply.started": "2022-07-28T18:39:12.765547Z"
    }
   },
   "outputs": [],
   "source": [
    "a.clear()   #to clear the whole set     \n",
    "print(a)"
   ]
  },
  {
   "cell_type": "markdown",
   "metadata": {},
   "source": [
    "***Assignments on sets***\n"
   ]
  },
  {
   "cell_type": "markdown",
   "metadata": {},
   "source": [
    "Check weather a string contains all the letters of english alphabet or not."
   ]
  },
  {
   "cell_type": "code",
   "execution_count": null,
   "metadata": {
    "execution": {
     "iopub.execute_input": "2022-07-28T18:51:52.995723Z",
     "iopub.status.busy": "2022-07-28T18:51:52.995082Z",
     "iopub.status.idle": "2022-07-28T18:51:53.006355Z",
     "shell.execute_reply": "2022-07-28T18:51:53.004974Z",
     "shell.execute_reply.started": "2022-07-28T18:51:52.995665Z"
    }
   },
   "outputs": [],
   "source": [
    "a= \"the quick brown fox jumps over the lazy dog\"\n",
    "\n",
    "    \n"
   ]
  },
  {
   "cell_type": "markdown",
   "metadata": {},
   "source": [
    "**Subset Assignment**"
   ]
  },
  {
   "cell_type": "markdown",
   "metadata": {},
   "source": [
    "program to check if a set is a proper subset or not"
   ]
  },
  {
   "cell_type": "code",
   "execution_count": null,
   "metadata": {
    "execution": {
     "iopub.execute_input": "2022-07-28T19:03:39.164152Z",
     "iopub.status.busy": "2022-07-28T19:03:39.163703Z",
     "iopub.status.idle": "2022-07-28T19:03:39.172612Z",
     "shell.execute_reply": "2022-07-28T19:03:39.171471Z",
     "shell.execute_reply.started": "2022-07-28T19:03:39.164114Z"
    }
   },
   "outputs": [],
   "source": [
    "# set A is subset of set B when all element of set A is element of set B\n",
    "\n",
    "set1= {1,2,3,4,5}\n",
    "set2={4,5}\n"
   ]
  },
  {
   "cell_type": "markdown",
   "metadata": {},
   "source": [
    "sources consulted: https://www.kaggle.com/code/itzr1010/sets-notebook, https://docs.python.org/3/tutorial/datastructures.html#sets"
   ]
  }
 ],
 "metadata": {
  "kernelspec": {
   "display_name": "Python 3",
   "language": "python",
   "name": "python3"
  },
  "language_info": {
   "codemirror_mode": {
    "name": "ipython",
    "version": 3
   },
   "file_extension": ".py",
   "mimetype": "text/x-python",
   "name": "python",
   "nbconvert_exporter": "python",
   "pygments_lexer": "ipython3",
   "version": "3.8.5"
  }
 },
 "nbformat": 4,
 "nbformat_minor": 4
}
