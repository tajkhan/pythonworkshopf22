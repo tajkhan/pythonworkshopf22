{
 "cells": [
  {
   "cell_type": "markdown",
   "metadata": {},
   "source": [
    "**Functions**\n",
    "Reusable fragments of code\n",
    "Can take arguments\n",
    "Can return result\n",
    "Have to be defined once\n",
    "Can be called (used) multiple times"
   ]
  },
  {
   "cell_type": "markdown",
   "metadata": {},
   "source": [
    "**Defining a function**"
   ]
  },
  {
   "cell_type": "code",
   "execution_count": null,
   "metadata": {},
   "outputs": [],
   "source": [
    "def greetings():\n",
    "    print(\"hello, peppino!\")"
   ]
  },
  {
   "cell_type": "code",
   "execution_count": null,
   "metadata": {},
   "outputs": [],
   "source": [
    "greetings()\n",
    "greetings()"
   ]
  },
  {
   "cell_type": "markdown",
   "metadata": {},
   "source": [
    "**Arguments and results**"
   ]
  },
  {
   "cell_type": "code",
   "execution_count": null,
   "metadata": {},
   "outputs": [],
   "source": [
    "def factorial (n):\n",
    "    result = 1\n",
    "    for i in range(1,n+1):\n",
    "        result = result*i\n",
    "    return result"
   ]
  },
  {
   "cell_type": "code",
   "execution_count": null,
   "metadata": {},
   "outputs": [],
   "source": [
    "factorial(5)"
   ]
  },
  {
   "cell_type": "code",
   "execution_count": null,
   "metadata": {},
   "outputs": [],
   "source": [
    "print(f\"factorial of 10 is {factorial(10)}. hopfully!\")"
   ]
  },
  {
   "cell_type": "code",
   "execution_count": null,
   "metadata": {},
   "outputs": [],
   "source": [
    "def absolute(n):\n",
    "    \"\"\" calculates absolute value of n \"\"\"\n",
    "    if n > 0:\n",
    "        return n\n",
    "    else:\n",
    "        return -n\n",
    "    \n",
    "def f1(n):\n",
    "    \"\"\" prints factorial of absolute value of n \"\"\"\n",
    "    r = factorial(absolute(n))\n",
    "    print(f\"the factorial of absolute of {n} is {r}\")\n",
    "\n",
    "f1(-3)\n"
   ]
  },
  {
   "cell_type": "markdown",
   "metadata": {},
   "source": [
    "**Default arguments**"
   ]
  },
  {
   "cell_type": "code",
   "execution_count": null,
   "metadata": {},
   "outputs": [],
   "source": [
    "# parameters can be given default values at definition\n",
    "# these values will be used if no arguments are provided at these positions\n",
    "# a,b are positional arugments, op is optional argument because it has default value specified\n",
    "\n",
    "def calc( a, b, op='+'):\n",
    "    if op=='+':\n",
    "        return a+b\n",
    "    elif op=='-':\n",
    "        return a-b\n",
    "    elif op=='*':\n",
    "        return a*b\n",
    "    elif op=='/':\n",
    "        return a//b\n",
    "    else:\n",
    "        print(\"invalid operation\")\n",
    "        return None\n",
    "    \n",
    "\n",
    "print(f\"3-2 = {calc(3, 2, '-')}\")\n",
    "print(f\"3+2 = {calc(3, 2, '+')}\")\n",
    "print(f\"3+2 = {calc(3, 2)}\")\n"
   ]
  },
  {
   "cell_type": "markdown",
   "metadata": {},
   "source": [
    "**Keyworkd arguments**"
   ]
  },
  {
   "cell_type": "code",
   "execution_count": null,
   "metadata": {},
   "outputs": [],
   "source": [
    "# keyword arguments\n",
    "# arguments given with parameter names specified. in this case order does not matter\n",
    "# a positional argument cannot come after keyword argumetn\n",
    "print(f\"3+2 = {calc(a=3, b=2, op='+')}\")\n",
    "print(f\"3+2 = {calc(b=2, a=3, op='+')}\")\n",
    "print(f\"3+2 = {calc(b=2, a=3)}\")\n",
    "print(f\"3+2 = {calc(3, b=2)}\")\n",
    "#print(f\"3+2 = {calc(b=2, 3)}\") # error: positional argument vs keyword argument"
   ]
  },
  {
   "cell_type": "markdown",
   "metadata": {},
   "source": [
    "**Arbitrary argument lists**"
   ]
  },
  {
   "cell_type": "code",
   "execution_count": null,
   "metadata": {},
   "outputs": [],
   "source": [
    "# this function takes at least one argument, and atmost any number of arguments\n",
    "# the arguments pased instead of *nick are passed as a tuple\n",
    "def call_nicks(name, *nicks):\n",
    "    for nick in nicks:\n",
    "        print(f\"{name} is {nick}\")\n",
    "\n",
    "call_nicks(\"sally\", \"dodo\", \"bobo\", \"dumbo\", \"soso\")"
   ]
  },
  {
   "cell_type": "markdown",
   "metadata": {},
   "source": [
    "**Lambad expressions**"
   ]
  },
  {
   "cell_type": "code",
   "execution_count": null,
   "metadata": {},
   "outputs": [],
   "source": [
    "# fucntions have names as given in their definitions\n",
    "def sum (a,b):\n",
    "    return a+b\n",
    "\n",
    "sum(3,5)\n",
    "\n",
    "# lambdas are anonymous functions\n",
    "# their syntax is different\n",
    "f = lambda a,b: a+b\n",
    "\n",
    "f(3,5)"
   ]
  },
  {
   "cell_type": "code",
   "execution_count": null,
   "metadata": {},
   "outputs": [],
   "source": [
    "# some functions take another function as their argument\n",
    "pairs = [(1, 'one'), (2, 'two'), (3, 'three'), (4, 'four')]\n",
    "pairs.sort()\n",
    "print(f\"{pairs}\")\n",
    "\n",
    "# for example the sort() function can take a fucntion as its \"key\" argument\n",
    "def return_2nd(pair):\n",
    "    return pair[1]\n",
    "\n",
    "pairs = [(1, 'one'), (2, 'two'), (3, 'three'), (4, 'four')]\n",
    "pairs.sort(key=return_2nd)\n",
    "print(f\"{pairs}\")\n",
    "\n",
    "\n",
    "# lambdas make passing functions easier\n",
    "pairs = [(1, 'one'), (2, 'two'), (3, 'three'), (4, 'four')]\n",
    "pairs.sort(key=lambda pair: pair[1])\n",
    "print(f\"{pairs}\")\n"
   ]
  },
  {
   "cell_type": "markdown",
   "metadata": {},
   "source": [
    "**Tasks**"
   ]
  },
  {
   "cell_type": "code",
   "execution_count": null,
   "metadata": {},
   "outputs": [],
   "source": [
    "# modify the greetings() function above to take a name as argument\n",
    "# it should greet the person by name\n",
    "# if no name is provided as argument it should print: hello, peppino!\n",
    "\n",
    "\n"
   ]
  },
  {
   "cell_type": "code",
   "execution_count": null,
   "metadata": {},
   "outputs": [],
   "source": [
    "# write a function that should take any number of arguments and return the maximum among them\n",
    "\n"
   ]
  },
  {
   "cell_type": "code",
   "execution_count": null,
   "metadata": {},
   "outputs": [],
   "source": [
    "# the python map() function can takes a function as its first argument, and then one or more iterables (e.g. lists) as next args\n",
    "# it then applies the function passed as first argument to very element of the list passed to it\n",
    "# https://docs.python.org/3/library/functions.html#map\n",
    "# use the map function to generate a list whose every element is double of corresponding element of list \"l\"\n",
    "l = [1,2,3,4,5,6,7,8,9,0]\n",
    "\n",
    "# hint: pass a lambda function as first argument of map. this lambda function should take one argument and return its double.\n",
    "\n"
   ]
  },
  {
   "cell_type": "markdown",
   "metadata": {},
   "source": [
    "resources consulted: https://docs.python.org/3/tutorial/controlflow.html#defining-functions"
   ]
  }
 ],
 "metadata": {
  "kernelspec": {
   "display_name": "Python 3",
   "language": "python",
   "name": "python3"
  },
  "language_info": {
   "codemirror_mode": {
    "name": "ipython",
    "version": 3
   },
   "file_extension": ".py",
   "mimetype": "text/x-python",
   "name": "python",
   "nbconvert_exporter": "python",
   "pygments_lexer": "ipython3",
   "version": "3.8.5"
  }
 },
 "nbformat": 4,
 "nbformat_minor": 4
}
